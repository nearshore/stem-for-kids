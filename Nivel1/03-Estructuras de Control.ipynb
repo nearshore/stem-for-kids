{
 "cells": [
  {
   "cell_type": "markdown",
   "metadata": {},
   "source": [
    "# Estructuras de Control\n",
    "\n",
    "## Sentencia if\n",
    "\n",
    "La estructura de control ```if``` permite que un programa ejecute unas instrucciones cuando se cumpla con una condición. Del inglés \"if\" significa \"si\"(condición) en español.\n",
    "\n",
    "### Sintaxis\n",
    "\n",
    "Para usar la sentencia ```if``` se escribe la palabra **if** seguida de la condición entre paréntesis y dos puntos **:**. Si la condición resulta verdadera(```true```) se ejecutarán las instrucciones dentro del bloque.\n",
    "\n",
    "```if``` (*condición*) ```:```<br>\n",
    "    &emsp;*instrucciones*\n",
    "\n",
    "### Ejemplo\n",
    "\n",
    "Mostrar mensaje determinando si la variable ```a``` o ```b``` es mayor."
   ]
  },
  {
   "cell_type": "code",
   "execution_count": 1,
   "metadata": {},
   "outputs": [
    {
     "name": "stdout",
     "output_type": "stream",
     "text": [
      "La variable a es mayor que b\n"
     ]
    }
   ],
   "source": [
    "a = 5\n",
    "b = 3\n",
    "\n",
    "if (a > b):\n",
    "    print (\"La variable a es mayor que b\")"
   ]
  },
  {
   "cell_type": "markdown",
   "metadata": {},
   "source": [
    "#### ¿Qué pasa si ```b``` es mayor que ```a```?\n",
    "\n",
    "## Sentencia ```if else```\n",
    "\n",
    "La estructura de control if else permite que un programa ejecute unas instrucciones cuando se cumple una condición y otras instrucciones cuando no se cumpla esa condición. Del inglés \"if\" significa \"si\" y \"else\" significa \"si no\".\n",
    "\n",
    "### Sintaxis\n",
    "\n",
    "Para usar la sentencia ```if else``` se escribe la palabra **if** seguida de la condición entre paréntesis y dos puntos **:**. Si la condición resulta verdadera(```true```) se ejecutarán las instrucciones dentro del bloque. A la misma altura que se escrbió la palabra **if** se debe escribir la palabra **else** seguida de dos puntos **:** \n",
    "\n",
    "```if``` (*condición*) ```:```<br>\n",
    "    &emsp;*instrucciones*<br>\n",
    "```else:```<br>\n",
    "    &emsp;*instrucciones*\n",
    "    \n",
    "### Ejemplo"
   ]
  },
  {
   "cell_type": "code",
   "execution_count": 1,
   "metadata": {},
   "outputs": [
    {
     "name": "stdout",
     "output_type": "stream",
     "text": [
      "La variable b es mayor que a\n"
     ]
    }
   ],
   "source": [
    "a = 3\n",
    "b = 5\n",
    "\n",
    "if (a > b):\n",
    "    print (\"La variable a es mayor que b\")"
   ]
  },
  {
   "cell_type": "markdown",
   "metadata": {},
   "source": [
    "#### ¿Qué pasa si ```a``` y ```b``` son iguales?\n",
    "\n",
    "## Sentencia ```if elif else```\n",
    "\n",
    "La estructura de control ```if elif else``` permite encadenar varias condiciones. ```elif``` es una contracción de ```else if```.\n",
    "\n",
    "### Sintaxis\n",
    "\n",
    "Para usar la sentencia ```if elif else``` se escribe la palabra **if** seguida de la condición entre paréntesis y dos puntos **:**. Si la condición resulta verdadera(```true```) se ejecutarán las instrucciones dentro del bloque. A la misma altura que se escrbió la palabra **if** se debe escribir la palabra **elif** seguida de la condición entre paréntesis y dos puntos **:**. A la misma altura que se escrbió la palabra **if** y **elif** se debe escribir la palabra **else** seguida de dos puntos **:** \n",
    "\n",
    "```if``` (*condición*) ```:```<br>\n",
    "    &emsp;*instrucciones*<br>\n",
    "```elif``` (*condición*) ```:```<br>\n",
    "    &emsp;*instrucciones*<br>\n",
    "```else:```<br>\n",
    "    &emsp;*instrucciones*\n",
    "    \n",
    "### Ejercicio\n",
    "\n",
    "Basándose en los ejemplos anteriores. Escribir el código para determinar que variable es mayor o si son iguales."
   ]
  },
  {
   "cell_type": "code",
   "execution_count": null,
   "metadata": {},
   "outputs": [],
   "source": [
    "a = 4\n",
    "b = 4\n",
    "\n",
    "#Escribe tu código aquí..."
   ]
  },
  {
   "cell_type": "markdown",
   "metadata": {},
   "source": [
    "### Reto\n",
    "\n",
    "Escribir una función que reciba tres numeros como parametros y que los imprima en pantalla ordenados de mayor a menor."
   ]
  },
  {
   "cell_type": "code",
   "execution_count": 5,
   "metadata": {},
   "outputs": [
    {
     "name": "stdout",
     "output_type": "stream",
     "text": [
      "5 ,  9 ,  15\n",
      "1 ,  2 ,  3\n",
      "1 ,  2 ,  3\n",
      "1 ,  2 ,  3\n",
      "1 ,  2 ,  3\n",
      "1 ,  2 ,  3\n",
      "1 ,  2 ,  3\n"
     ]
    }
   ],
   "source": [
    "a = 5\n",
    "b = 15\n",
    "c = 9\n",
    "\n",
    "def OrdenaNumeros(a, b, c):\n",
    "    if (a > b):\n",
    "        if (b > c):\n",
    "            mayor = a\n",
    "            medio = b\n",
    "            menor = c\n",
    "        elif(a > c):\n",
    "            mayor = a\n",
    "            medio = c\n",
    "            menor = b\n",
    "        else:\n",
    "            mayor = c\n",
    "            medio = a\n",
    "            menor = b\n",
    "    else:\n",
    "        if (a > c):\n",
    "            mayor = b\n",
    "            medio = a\n",
    "            menor = c\n",
    "        elif(b > c):\n",
    "            mayor = b\n",
    "            medio = c\n",
    "            menor = a\n",
    "        else:\n",
    "            mayor = c\n",
    "            medio = b\n",
    "            menor = a\n",
    "    print(menor, \", \",medio, \", \", mayor)\n",
    "            \n",
    "OrdenaNumeros(a,b,c)\n",
    "OrdenaNumeros(1,2,3)\n",
    "OrdenaNumeros(2,3,1)\n",
    "OrdenaNumeros(3,1,2)\n",
    "OrdenaNumeros(1,3,2)\n",
    "OrdenaNumeros(3,1,2)\n",
    "OrdenaNumeros(2,1,3)"
   ]
  },
  {
   "cell_type": "code",
   "execution_count": null,
   "metadata": {},
   "outputs": [],
   "source": []
  }
 ],
 "metadata": {
  "kernelspec": {
   "display_name": "Python 3",
   "language": "python",
   "name": "python3"
  },
  "language_info": {
   "codemirror_mode": {
    "name": "ipython",
    "version": 3
   },
   "file_extension": ".py",
   "mimetype": "text/x-python",
   "name": "python",
   "nbconvert_exporter": "python",
   "pygments_lexer": "ipython3",
   "version": "3.7.1"
  }
 },
 "nbformat": 4,
 "nbformat_minor": 2
}
