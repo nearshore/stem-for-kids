{
 "cells": [
  {
   "cell_type": "markdown",
   "metadata": {},
   "source": [
    "# Ciclos\n",
    "Un bucle o ciclo, en programación, es una secuencia que ejecuta repetidas veces un trozo de código, hasta que la condición asignada a dicho ciclo deja de cumplirse."
   ]
  },
  {
   "cell_type": "code",
   "execution_count": null,
   "metadata": {},
   "outputs": [],
   "source": [
    "a = list(range(1,6))"
   ]
  },
  {
   "cell_type": "markdown",
   "metadata": {},
   "source": [
    "### Como utilizar un ciclo?"
   ]
  },
  {
   "cell_type": "code",
   "execution_count": null,
   "metadata": {
    "scrolled": true
   },
   "outputs": [],
   "source": [
    "for i in a:\n",
    "    print (i)"
   ]
  },
  {
   "cell_type": "markdown",
   "metadata": {},
   "source": [
    "### Operaciones dentro de un clico"
   ]
  },
  {
   "cell_type": "code",
   "execution_count": null,
   "metadata": {},
   "outputs": [],
   "source": [
    "total = 0\n",
    "for i in a:\n",
    "    total = total + i\n"
   ]
  },
  {
   "cell_type": "markdown",
   "metadata": {},
   "source": [
    "#### Ejercicio\n",
    "Crear un ciclo que imprima todos la suma de todos los numeros pares de una variable, la cual guarda numeros del 1 al 10"
   ]
  },
  {
   "cell_type": "code",
   "execution_count": null,
   "metadata": {},
   "outputs": [],
   "source": []
  },
  {
   "cell_type": "markdown",
   "metadata": {},
   "source": [
    "# Otros tipos de ciclos\n",
    "Los tres ciclos más utilizados en programación son el while, for y el do-while."
   ]
  },
  {
   "cell_type": "code",
   "execution_count": null,
   "metadata": {},
   "outputs": [],
   "source": [
    "b = list(range(1,6))\n",
    "i = 1\n",
    "\n",
    "for i in b:\n",
    "    print (i)\n"
   ]
  },
  {
   "cell_type": "code",
   "execution_count": null,
   "metadata": {},
   "outputs": [],
   "source": [
    "i = 1\n",
    "while i < 5:\n",
    "    print (i)"
   ]
  },
  {
   "cell_type": "markdown",
   "metadata": {},
   "source": [
    "### Cuando es util while en lugar de for?\n",
    "Cuando necesitamos repetir una seccion de codigo, pero no sabemos el numero exacto de veces que debemos de hacerlo\n",
    "\n",
    "Ejemplo:\n",
    "Crear una variable con valor 0\n",
    "Imprimir la palabra \"Hola\" hasta que el valor de la varible sea menor que 10"
   ]
  },
  {
   "cell_type": "code",
   "execution_count": null,
   "metadata": {},
   "outputs": [],
   "source": [
    "i = 1\n",
    "while i < 10 :\n",
    "    print(\"Hola\")\n",
    "    i += 1"
   ]
  },
  {
   "cell_type": "markdown",
   "metadata": {},
   "source": [
    "## Ejercicio\n",
    "- Crear variable x con valor 0\n",
    "- Crear variable y con valor 20\n",
    "- Imprimir la palabra \"Adios\" cuando \"x\" sea menor que 20 y \"y\" sea un numero par\n",
    "- Cada ciclo debe de:\n",
    " - Verificar que x sea menor que 20\n",
    " - verificar que y sea mayor que 10\n",
    " - Incrementar el valor de x\n",
    " - Decrementar el valor de y\n"
   ]
  },
  {
   "cell_type": "code",
   "execution_count": null,
   "metadata": {},
   "outputs": [],
   "source": []
  },
  {
   "cell_type": "markdown",
   "metadata": {},
   "source": [
    "# Es posible romper un ciclo?\n",
    "La respuesta es si, algunos lenguajes de programación, como Python tienen instrucciones que permiten \"escapar\" de los ciclos sin llegar a la condición de fin, como la instruccion <b>break</b>"
   ]
  },
  {
   "cell_type": "code",
   "execution_count": null,
   "metadata": {},
   "outputs": [],
   "source": [
    "a = list(range(1,6))\n",
    "print (a)\n",
    "total = 0\n",
    "for i in a:\n",
    "    if (i > 2):\n",
    "        break\n",
    "    total = total + i\n",
    "    \n",
    "print(total)    "
   ]
  },
  {
   "cell_type": "code",
   "execution_count": null,
   "metadata": {},
   "outputs": [],
   "source": [
    "total2 = 0\n",
    "j = 1\n",
    "\n",
    "while True:\n",
    "    if (j > 2):\n",
    "        break\n",
    "    j += 1;   \n",
    "    print(j)\n",
    "    total2 = total2 + j\n",
    "    \n",
    "print(\"El total es: \", total2)    "
   ]
  },
  {
   "cell_type": "markdown",
   "metadata": {},
   "source": [
    "# Ejercicio\n",
    "Crear 2 funciones <br>\n",
    "Funcion \"esNiño\"\n",
    "    - Debe recibir un numero como parametro\n",
    "    - Si le numero es menor que 10, debe imprimir la \"Es niño\"\n",
    "    \n",
    "Funcion \"esJoven\"\n",
    "    - Debe recibir un numero como parametro\n",
    "    - Si el numero es menor que 20 y mayor a 10, debe imprimir la \"Es joven\"\n",
    "    \n",
    "Crear un ciclo usando <b>FOR</b> que se repita 20 veces y llame a las dos funciones anteriores     \n",
    "Crear un ciclo usando <b>WHILE</b> que se repita 20 veces y llame a las dos funciones anteriores     \n"
   ]
  },
  {
   "cell_type": "code",
   "execution_count": null,
   "metadata": {},
   "outputs": [],
   "source": []
  },
  {
   "cell_type": "code",
   "execution_count": null,
   "metadata": {},
   "outputs": [],
   "source": []
  },
  {
   "cell_type": "code",
   "execution_count": null,
   "metadata": {},
   "outputs": [],
   "source": []
  }
 ],
 "metadata": {
  "kernelspec": {
   "display_name": "Python 3",
   "language": "python",
   "name": "python3"
  },
  "language_info": {
   "codemirror_mode": {
    "name": "ipython",
    "version": 3
   },
   "file_extension": ".py",
   "mimetype": "text/x-python",
   "name": "python",
   "nbconvert_exporter": "python",
   "pygments_lexer": "ipython3",
   "version": "3.7.4"
  }
 },
 "nbformat": 4,
 "nbformat_minor": 2
}
