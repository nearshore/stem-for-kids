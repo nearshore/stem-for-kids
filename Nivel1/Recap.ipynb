{
 "cells": [
  {
   "cell_type": "markdown",
   "metadata": {},
   "source": [
    "# Recordemos: Impresión en pantalla\n",
    "Si queremos imprimir algo en pantalla podemos utilizar el método print(\"\")"
   ]
  },
  {
   "cell_type": "code",
   "execution_count": 2,
   "metadata": {},
   "outputs": [
    {
     "name": "stdout",
     "output_type": "stream",
     "text": [
      "Recordando la impresión en pantalla\n"
     ]
    }
   ],
   "source": [
    "print(\"Recordando la impresión en pantalla\")"
   ]
  },
  {
   "cell_type": "markdown",
   "metadata": {},
   "source": [
    "# Recordemos: Variables\n",
    "Una variable se utiliza para almacenar valores y se representa a partir del nombre que le asignemos, por ejemplo: a, x, resultado, nombre, edad."
   ]
  },
  {
   "cell_type": "code",
   "execution_count": 3,
   "metadata": {},
   "outputs": [],
   "source": [
    "a = \"Soy una variable\""
   ]
  },
  {
   "cell_type": "code",
   "execution_count": 4,
   "metadata": {},
   "outputs": [],
   "source": [
    "x = 8.9"
   ]
  },
  {
   "cell_type": "code",
   "execution_count": 5,
   "metadata": {},
   "outputs": [],
   "source": [
    "resultado = x"
   ]
  },
  {
   "cell_type": "code",
   "execution_count": 6,
   "metadata": {},
   "outputs": [],
   "source": [
    "nombre = \"Nearshore\""
   ]
  },
  {
   "cell_type": "code",
   "execution_count": 7,
   "metadata": {},
   "outputs": [],
   "source": [
    "edad = 7"
   ]
  },
  {
   "cell_type": "markdown",
   "metadata": {},
   "source": [
    "Recordemos que las variables puedes ser asignadas entre si, por lo que resultado, debería tener el mismo valor que x."
   ]
  },
  {
   "cell_type": "code",
   "execution_count": 8,
   "metadata": {},
   "outputs": [
    {
     "name": "stdout",
     "output_type": "stream",
     "text": [
      "8.9\n"
     ]
    }
   ],
   "source": [
    "print(resultado)"
   ]
  },
  {
   "cell_type": "markdown",
   "metadata": {},
   "source": [
    "# EJERCICIO 1\n",
    "- Crear la variable nombre1 con el valor \"Technology\"\n",
    "- Crear la variable nombre2 con el valor \"Nearshore\"\n",
    "- Intercambiar el valor de las variables\n",
    "- Imprimir ambas variables para verificar que el valor fue intercambiado"
   ]
  },
  {
   "cell_type": "code",
   "execution_count": null,
   "metadata": {},
   "outputs": [],
   "source": [
    "#Ejercicio 1"
   ]
  },
  {
   "cell_type": "markdown",
   "metadata": {},
   "source": [
    "# Recordemos: Operadores\n",
    "\n",
    "| Operador | Descripción |Ejemplo |\n",
    "|---|----------------|---|\n",
    "| + | Suma |r=3+2 # r es 5 |\n",
    "| - | Resta |r=4-7 # r es -3 |\n",
    "| - | Negacion |r=-7 # r es -7 |\n",
    "| * | Multiplicacion |r=2*6 # r es 12 |\n",
    "| ** | Exponente | r=2**6 # r es 64 |\n",
    "| / | División | r=3.5/2 # r es 1.75 |\n",
    "| //| División Entera | r=3.5//2 r es 1.0 |\n",
    "| % | Módulo | r=7%2 # r es 1|\n",
    "\n",
    "Por ejemplo:"
   ]
  },
  {
   "cell_type": "code",
   "execution_count": 15,
   "metadata": {},
   "outputs": [
    {
     "name": "stdout",
     "output_type": "stream",
     "text": [
      "Suma: 12\n",
      "Multiplicación: 20\n",
      "Exponente: 100\n",
      "Módulo: 0\n"
     ]
    }
   ],
   "source": [
    "a = 10\n",
    "b = 2\n",
    "\n",
    "suma = a + b\n",
    "print('Suma: ' + str(suma))\n",
    "\n",
    "mult = a * b\n",
    "print('Multiplicación: ' + str(mult))\n",
    "\n",
    "exp = a ** b\n",
    "print('Exponente: ' + str(exp))\n",
    "\n",
    "mod = a % b\n",
    "print('Módulo: ' + str(mod))"
   ]
  },
  {
   "cell_type": "markdown",
   "metadata": {},
   "source": [
    "# Recordemos: Funciones\n",
    "\n",
    "### \"Una función es una porción o bloque de código reutilizable que se encarga de realizar una determinada tarea.\""
   ]
  },
  {
   "cell_type": "markdown",
   "metadata": {},
   "source": [
    "\"print\" y \"str\" son ejemplos de funciones que ya hemos visto y utilizado.\n",
    "- print: función encargada de imprimir en pantalla los parámetros que recibe\n",
    "- str: función encargada de convertir una variable a un \"string\" (cadena de texto)"
   ]
  },
  {
   "cell_type": "markdown",
   "metadata": {},
   "source": [
    "Para declarar una función solo se debe poner la palabra **\" def \"** seguido del nombre de la función y dos puntos (**:**)\n",
    "\n",
    "Recuerda que la tabulación es importante para determinar lo que será parte de una función.\n",
    "\n",
    "Por ejemplo: "
   ]
  },
  {
   "cell_type": "code",
   "execution_count": 16,
   "metadata": {},
   "outputs": [
    {
     "name": "stdout",
     "output_type": "stream",
     "text": [
      "Esto se ejecuta afuera de la función\n"
     ]
    }
   ],
   "source": [
    "def imprimeSuma(a,b):\n",
    "    suma = a + b\n",
    "    print(\"El resultado de la suma es:\", suma)\n",
    "\n",
    "print(\"Esto se ejecuta afuera de la función\")"
   ]
  },
  {
   "cell_type": "code",
   "execution_count": 17,
   "metadata": {},
   "outputs": [
    {
     "name": "stdout",
     "output_type": "stream",
     "text": [
      "El resultado de la suma es: 12\n"
     ]
    }
   ],
   "source": [
    "imprimeSuma(5, 7)"
   ]
  },
  {
   "cell_type": "code",
   "execution_count": 18,
   "metadata": {},
   "outputs": [
    {
     "name": "stdout",
     "output_type": "stream",
     "text": [
      "El resultado de la suma es: 19\n"
     ]
    }
   ],
   "source": [
    "x = 10\n",
    "y = 9\n",
    "imprimeSuma(x,y)"
   ]
  },
  {
   "cell_type": "markdown",
   "metadata": {},
   "source": [
    "# EJERCICIO 2\n",
    "- Definir dos variables y asignarles un valor\n",
    "- Crear una función que imprima el resultado para sumar, restar, multiplicar, dividr y obtener el módulo.\n",
    "- Crear una función de nombre \"ops\" que reciba dos variables de parámetro y mande a llamar una por una las funciones creadas anteriormente\n",
    "- Mandar a llamar la función \"ops\""
   ]
  },
  {
   "cell_type": "code",
   "execution_count": null,
   "metadata": {},
   "outputs": [],
   "source": [
    "#Ejercicio 2"
   ]
  },
  {
   "cell_type": "markdown",
   "metadata": {},
   "source": [
    "# Recordemos: Estructuras de control\n",
    "\n",
    "## Sentencia ```if```\n",
    "\n",
    "Si la condición resulta verdadera(```true```) se ejecutarán las instrucciones dentro del bloque.\n",
    "\n",
    "```if``` (*condición*) ```:```<br>\n",
    "    &emsp;*instrucciones*\n",
    "\n",
    "    \n",
    "## Sentencia ```if else```\n",
    "\n",
    "Si la condición resulta verdadera(```true```) se ejecutarán las instrucciones dentro del bloque. En caso contrario, se ejecutarán las instrucciones definidas después del ```else```.\n",
    "\n",
    "```if``` (*condición*) ```:```<br>\n",
    "    &emsp;*instrucciones*<br>\n",
    "```else:```<br>\n",
    "    &emsp;*instrucciones*\n",
    "    "
   ]
  },
  {
   "cell_type": "markdown",
   "metadata": {},
   "source": [
    "## Sentencia ```if elif else```\n",
    "\n",
    "La estructura de control ```if elif else``` permite encadenar varias condiciones. Si la condición resulta verdadera(```true```) se ejecutarán las instrucciones dentro del bloque.\n",
    "\n",
    "```if``` (*condición*) ```:```<br>\n",
    "    &emsp;*instrucciones*<br>\n",
    "```elif``` (*condición*) ```:```<br>\n",
    "    &emsp;*instrucciones*<br>\n",
    "```else:```<br>\n",
    "    &emsp;*instrucciones*\n",
    "    \n",
    "    \n",
    "Por ejemplo:"
   ]
  },
  {
   "cell_type": "code",
   "execution_count": 20,
   "metadata": {},
   "outputs": [
    {
     "name": "stdout",
     "output_type": "stream",
     "text": [
      "15  es mayor que  13\n"
     ]
    }
   ],
   "source": [
    "numero1 = 15\n",
    "numero2 = 13\n",
    "\n",
    "if(numero1 < numero2):\n",
    "    print(numero1, \" es menor que \", numero2)\n",
    "elif(numero1 == numero2):\n",
    "    print(numero1, \" es igual que \", numero2)\n",
    "else:\n",
    "    print(numero1, \" es mayor que \", numero2)"
   ]
  },
  {
   "cell_type": "markdown",
   "metadata": {},
   "source": [
    "# EJERCICIO 3\n",
    "\n",
    "Crear una función que ordene de 3 números\n",
    "\n",
    "- Definir tres variables y asignarles un valor\n",
    "- Crear una función de nombre \"ordenar\" que reciba tres parámetros\n",
    "- Utilizar los \"if\", \"elif\" y \"else\" necesarios para comparar los valores de las variables recibidas en la función, determinar su orden e imprimir el resultado.\n",
    "- Mandar a llamar la función \"ordenar\""
   ]
  },
  {
   "cell_type": "code",
   "execution_count": null,
   "metadata": {},
   "outputs": [],
   "source": [
    "#Ejercicio 3"
   ]
  },
  {
   "cell_type": "markdown",
   "metadata": {},
   "source": [
    "# Recordemos: Ciclos\n",
    "\n",
    "Un bucle o ciclo, en programación, es una secuencia que ejecuta repetidas veces un trozo de código, hasta que la condición asignada a dicho ciclo deja de cumplirse.\n",
    "\n",
    "Ejemplos:"
   ]
  },
  {
   "cell_type": "code",
   "execution_count": null,
   "metadata": {},
   "outputs": [],
   "source": [
    "#Esta instrucción define una lista que utilizaremos para recorrer usando ciclos\n",
    "a = list(range(1,6))"
   ]
  },
  {
   "cell_type": "code",
   "execution_count": null,
   "metadata": {},
   "outputs": [],
   "source": [
    "for i in a:\n",
    "    print (i)"
   ]
  },
  {
   "cell_type": "code",
   "execution_count": null,
   "metadata": {},
   "outputs": [],
   "source": [
    "total = 0\n",
    "for i in a:\n",
    "    total = total + i"
   ]
  },
  {
   "cell_type": "markdown",
   "metadata": {},
   "source": [
    "### Cuando es util while en lugar de for?\n",
    "Cuando necesitamos repetir una seccion de codigo, pero no sabemos el numero exacto de veces que debemos de hacerlo\n",
    "\n",
    "Ejemplo:\n",
    "Crear una variable con valor 0\n",
    "Imprimir la palabra \"Hola\" hasta que el valor de la varible sea menor que 10"
   ]
  },
  {
   "cell_type": "code",
   "execution_count": 21,
   "metadata": {},
   "outputs": [
    {
     "name": "stdout",
     "output_type": "stream",
     "text": [
      "Hola\n",
      "Hola\n",
      "Hola\n",
      "Hola\n",
      "Hola\n",
      "Hola\n",
      "Hola\n",
      "Hola\n",
      "Hola\n"
     ]
    }
   ],
   "source": [
    "i = 1\n",
    "while i < 10 :\n",
    "    print(\"Hola\")\n",
    "    i += 1"
   ]
  },
  {
   "cell_type": "markdown",
   "metadata": {},
   "source": [
    "# Es posible romper un ciclo?\n",
    "La respuesta es si, algunos lenguajes de programación, como Python tienen instrucciones que permiten \"escapar\" de los ciclos sin llegar a la condición de fin, como la instruccion <b>break</b>"
   ]
  },
  {
   "cell_type": "code",
   "execution_count": 22,
   "metadata": {},
   "outputs": [
    {
     "name": "stdout",
     "output_type": "stream",
     "text": [
      "[1, 2, 3, 4, 5]\n",
      "3\n"
     ]
    }
   ],
   "source": [
    "a = list(range(1,6))\n",
    "print (a)\n",
    "total = 0\n",
    "for i in a:\n",
    "    if (i > 2):\n",
    "        break\n",
    "    total = total + i\n",
    "    \n",
    "print(total)    "
   ]
  },
  {
   "cell_type": "code",
   "execution_count": 23,
   "metadata": {},
   "outputs": [
    {
     "name": "stdout",
     "output_type": "stream",
     "text": [
      "2\n",
      "3\n",
      "El total es:  5\n"
     ]
    }
   ],
   "source": [
    "total2 = 0\n",
    "j = 1\n",
    "\n",
    "while True:\n",
    "    if (j > 2):\n",
    "        break\n",
    "    j += 1;   \n",
    "    print(j)\n",
    "    total2 = total2 + j\n",
    "    \n",
    "print(\"El total es: \", total2)"
   ]
  },
  {
   "cell_type": "markdown",
   "metadata": {},
   "source": [
    "# Ejercicio 4\n",
    "Crear 2 funciones <br>\n",
    "Funcion \"esNiño\"\n",
    "    - Debe recibir un numero como parametro\n",
    "    - Si le numero es menor que 10, debe imprimir la \"Es niño\"\n",
    "    \n",
    "Funcion \"esJoven\"\n",
    "    - Debe recibir un numero como parametro\n",
    "    - Si el numero es menor que 20 y mayor a 10, debe imprimir la \"Es joven\"\n",
    "    \n",
    "Crear un ciclo usando <b>FOR</b> que se repita 20 veces y llame a las dos funciones anteriores     \n",
    "Crear un ciclo usando <b>WHILE</b> que se repita 20 veces y llame a las dos funciones anteriores  "
   ]
  },
  {
   "cell_type": "code",
   "execution_count": null,
   "metadata": {},
   "outputs": [],
   "source": [
    "#Ejercicio 4"
   ]
  },
  {
   "cell_type": "markdown",
   "metadata": {},
   "source": [
    "# ¡Reto!\n",
    "\n",
    "Resolvamos 3 diferentes ecuaciones de segundo grado, siguiendo los siguientes pasos:\n",
    "\n",
    "- Revisa la fórmula general que sirve para resolver ecuaciones de segundo grado. Identifica cómo se hace uso de los valores de \"a\", \"b\" y \"c\".\n",
    "- Crea una función y nómbrala \"fGral\" que reciba los parámetros \"a\", \"b\" y \"c\", dentro de la función calcula e imprime SOLO el resultado POSITIVO de la fórmula general.\n",
    "- Define las variables \"a\" y \"b\" con los valores: 4 y -9.\n",
    "- Con ayuda de un profesor, define una lista de 3 valores que llamarás \"listaC\". Esta lista, representará tres posibles valores que puede tomar \"c\".\n",
    "- Usa un ciclo para obtener cada valor posible de \"c\". Dentro del ciclo, manda a llamar la función \"fGral\"."
   ]
  },
  {
   "cell_type": "code",
   "execution_count": 24,
   "metadata": {},
   "outputs": [],
   "source": [
    "# El reto!"
   ]
  },
  {
   "cell_type": "code",
   "execution_count": null,
   "metadata": {},
   "outputs": [],
   "source": []
  }
 ],
 "metadata": {
  "kernelspec": {
   "display_name": "Python 3",
   "language": "python",
   "name": "python3"
  },
  "language_info": {
   "codemirror_mode": {
    "name": "ipython",
    "version": 3
   },
   "file_extension": ".py",
   "mimetype": "text/x-python",
   "name": "python",
   "nbconvert_exporter": "python",
   "pygments_lexer": "ipython3",
   "version": "3.8.2"
  }
 },
 "nbformat": 4,
 "nbformat_minor": 4
}
