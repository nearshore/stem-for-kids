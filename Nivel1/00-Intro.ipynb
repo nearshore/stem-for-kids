{
 "cells": [
  {
   "cell_type": "markdown",
   "metadata": {},
   "source": [
    "# ¿Que es la programación?"
   ]
  },
  {
   "cell_type": "markdown",
   "metadata": {},
   "source": [
    "¿Qué hace un lenguaje de programación? ¿Por qué lo tienen los ordenadores? ¿Por qué hay tantos lenguajes de programación distintos?\n",
    "\n",
    "De la misma forma que para conducir un coche no hay que entender cómo funciona un motor, tampoco es necesario conocer la respuesta a estas preguntas para hacer programación básica. Sin embargo, para progresar a un nivel avanzado, sí que es necesario entender cómo funciona un ordenador. Lo siguiente es una breve introducción."
   ]
  },
  {
   "cell_type": "markdown",
   "metadata": {},
   "source": [
    "Los ordenadores son electrónica y son digitales. Para un ordenador todo se basa en tener, o no tener, voltaje a través de un cable. No tener voltaje significa un cero, y algo de voltaje significa un uno. Los ordenadores no pueden contar más alto que eso sin tener que combinar múltiples unos y ceros.\n",
    "\n",
    "Al principio se usaban interruptores para simular unos o ceros en la memoria del ordenador. La Figura 2.1, cortesía de Wikimedia Commons, muestra un Altair 8800. Los interruptores del panel frontal eran usados para cargar el programa. Las luces mostraban la salida. No existía un monitor."
   ]
  },
  {
   "cell_type": "markdown",
   "metadata": {},
   "source": [
    "![Altair](Images0/Altair_Computer_Front_Panel.jpg)"
   ]
  },
  {
   "cell_type": "markdown",
   "metadata": {},
   "source": [
    "Cada conjunto de interruptores on/off representa un número. Cada número podía representar datos o una instrucción para que la ejecutase el ordenador. Este sistema de usar unos y ceros para representar números es llamado sistema numérico binario. Este tipo de lenguaje de programación es llamado 1GL o lenguaje de programación de primera generación. 1Gl es lo mismo que decir lenguaje máquina donde los números representan los comandos y los datos para el programa.\n",
    "\n",
    "Los números binarios son representados normalmente en grupos de cuatro. Por ejemplo:\n",
    "\n",
    "1010 0010 0011"
   ]
  },
  {
   "cell_type": "markdown",
   "metadata": {},
   "source": [
    "# ¿Qué es python?\n",
    "Python es un lenguaje de programación muy fácil de aprender y usar, es utilizado en diferentes contextos desde aplicaciones escolares, de grado científico y en la industria. En la actualidad es uno de los lenguajes más comunes a la hora de realizar inteligencia artificial.\n",
    "![](Images0/python_image.png)"
   ]
  },
  {
   "cell_type": "markdown",
   "metadata": {},
   "source": [
    "## Pequeña historia de Python\n",
    "La historia del lenguaje de programación Python se remonta hacia finales de los 80s y principio de los 90s, su implementación comenzó en diciembre de 1989 cuando en Navidad Guido Van Rossum decidió empezar el proyecto como un pasatiempo dándole continuidad al lenguaje de programación ABC del que había formado parte del equipo de desarrollo.\n",
    "\n",
    "Dicho lenguaje se enfocaba en ser fácil de usar y aprender manteniendo potencia en su desempeño pero el hardware disponible en la época de su creación hacía difícil su uso y el proyecto no trascendió como se esperaba. \n",
    "\n",
    "Van Rossum es por tanto el autor principal de Python y continúa ejerciendo un rol central decidiendo la dirección del lenguaje, en la comunidad de Python se le conoce como Benevolente Dictador Vitalicio (en inglés: Benevolent Dictator for Life, BDFL). El nombre \"Python\" viene dado por la afición de Van Rossum al grupo Monty Python."
   ]
  },
  {
   "cell_type": "markdown",
   "metadata": {},
   "source": [
    "## Nuestro primer comando en python ¡Hola Mundo!\n",
    "Es común durante el aprendizaje de cualquier lenguaje de programación comenzar por lo más básico que es imprimir texto. en python se usa la instrucción print()\n",
    "\n",
    "Coloca en la celda de abajo la siguiente línea: \n",
    "\n",
    "**print(\"Hola Mundo!\")**"
   ]
  },
  {
   "cell_type": "code",
   "execution_count": 5,
   "metadata": {},
   "outputs": [
    {
     "name": "stdout",
     "output_type": "stream",
     "text": [
      "Hola Mundo!\n"
     ]
    }
   ],
   "source": [
    "print(\"Hola Mundo!\")"
   ]
  },
  {
   "cell_type": "markdown",
   "metadata": {},
   "source": [
    "#### ¡Excelente! Ahora imprime tu nombre y después juega con el comando para imprimir cualquier texto"
   ]
  },
  {
   "cell_type": "code",
   "execution_count": 6,
   "metadata": {},
   "outputs": [
    {
     "name": "stdout",
     "output_type": "stream",
     "text": [
      "Kevin\n"
     ]
    }
   ],
   "source": [
    "print(\"Kevin\")"
   ]
  },
  {
   "cell_type": "code",
   "execution_count": null,
   "metadata": {},
   "outputs": [],
   "source": []
  },
  {
   "cell_type": "code",
   "execution_count": null,
   "metadata": {},
   "outputs": [],
   "source": []
  },
  {
   "cell_type": "markdown",
   "metadata": {},
   "source": [
    "### Referencias\n",
    "http://programarcadegames.com/index.php?chapter=what_is_a_computer_language&lang=es#section_2 "
   ]
  },
  {
   "cell_type": "code",
   "execution_count": null,
   "metadata": {},
   "outputs": [],
   "source": []
  }
 ],
 "metadata": {
  "kernelspec": {
   "display_name": "Python 3",
   "language": "python",
   "name": "python3"
  },
  "language_info": {
   "codemirror_mode": {
    "name": "ipython",
    "version": 3
   },
   "file_extension": ".py",
   "mimetype": "text/x-python",
   "name": "python",
   "nbconvert_exporter": "python",
   "pygments_lexer": "ipython3",
   "version": "3.7.4"
  }
 },
 "nbformat": 4,
 "nbformat_minor": 2
}
