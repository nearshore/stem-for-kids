{
 "cells": [
  {
   "cell_type": "markdown",
   "metadata": {},
   "source": [
    "# Operadores basicos en Python\n",
    "\n",
    "| Operador | Descripción |Ejemplo |\n",
    "|---|----------------|---|\n",
    "| + | Suma |r=3+2 # r es 5 |\n",
    "| - | Resta |r=4-7 # r es -3 |\n",
    "| - | Negacion |r=-7 # r es -7 |\n",
    "| * | Multiplicacion |r=2*6 # r es 12 |\n",
    "| ** | Exponente | r=2**6 # r es 64 |\n",
    "| / | División | r=3.5/2 # r es 1.75 |\n",
    "| //| División Entera | r=3.5//2 r es 1.0 |\n",
    "| % | Módulo | r=7%2 # r es 1|\n"
   ]
  },
  {
   "cell_type": "markdown",
   "metadata": {},
   "source": [
    "En python podemos realizar diferentes tipos de operaciones, ¡la mayoría ya las conoces!\n",
    "#### RETO: Imprime en lineas independientes los ejemplos de cada operador mostrado en la tabla"
   ]
  },
  {
   "cell_type": "code",
   "execution_count": null,
   "metadata": {},
   "outputs": [],
   "source": [
    "#Suma"
   ]
  },
  {
   "cell_type": "code",
   "execution_count": null,
   "metadata": {},
   "outputs": [],
   "source": [
    "#Resta"
   ]
  },
  {
   "cell_type": "code",
   "execution_count": null,
   "metadata": {},
   "outputs": [],
   "source": [
    "#Negación"
   ]
  },
  {
   "cell_type": "code",
   "execution_count": null,
   "metadata": {},
   "outputs": [],
   "source": [
    "#Multiplicación"
   ]
  },
  {
   "cell_type": "code",
   "execution_count": null,
   "metadata": {},
   "outputs": [],
   "source": [
    "#Exponente"
   ]
  },
  {
   "cell_type": "code",
   "execution_count": null,
   "metadata": {},
   "outputs": [],
   "source": [
    "#Division"
   ]
  },
  {
   "cell_type": "code",
   "execution_count": null,
   "metadata": {},
   "outputs": [],
   "source": [
    "#Division Entera"
   ]
  },
  {
   "cell_type": "code",
   "execution_count": null,
   "metadata": {},
   "outputs": [],
   "source": [
    "#Módulo"
   ]
  },
  {
   "cell_type": "markdown",
   "metadata": {},
   "source": [
    "# Funciones"
   ]
  },
  {
   "cell_type": "markdown",
   "metadata": {},
   "source": [
    "### \"Una función es una porción o bloque de código reutilizable que se encarga de realizar una determinada tarea.\""
   ]
  },
  {
   "cell_type": "markdown",
   "metadata": {},
   "source": [
    "Para declarar una función solo se debe poner la palabra **\" def \"** seguido del nombre de la función y dos puntos (**:**), para el ejemplo le hemos puesto \"sumar\"\n",
    "Esta función nos permitirá obtener el resultado de una suma de los número 10 y 20"
   ]
  },
  {
   "cell_type": "code",
   "execution_count": 1,
   "metadata": {},
   "outputs": [
    {
     "name": "stdout",
     "output_type": "stream",
     "text": [
      "15\n"
     ]
    }
   ],
   "source": [
    "def sumar():\n",
    "    print(5+10)\n",
    "    \n",
    "sumar()"
   ]
  },
  {
   "cell_type": "code",
   "execution_count": null,
   "metadata": {},
   "outputs": [],
   "source": [
    "def restar():\n",
    "    resultado = 4+9\n",
    "    print(\"El resultado es:\"+ resultado)"
   ]
  },
  {
   "cell_type": "markdown",
   "metadata": {},
   "source": [
    "### ¿Pero qué podemos hacer si no queremos sumar sólo los valores 5 y 10?\n",
    "#### Agregamos parametros a la función que sirven como variables\n",
    "Si colocamos dentro del paréntesis dos variables sean \"a\" y \"b\" python esperará de esta función cuando sea \"llamada\" que incluya dos números o valores en su interior.\n",
    "Ejemplo. (Cambia el valor de los número al final de la celda para que observes el comprtamiento de la función con base a los parámetros.\n",
    "##### Imprime la suma de a y b! :O "
   ]
  },
  {
   "cell_type": "code",
   "execution_count": 4,
   "metadata": {},
   "outputs": [
    {
     "name": "stdout",
     "output_type": "stream",
     "text": [
      "8\n"
     ]
    }
   ],
   "source": [
    "def sumar(a,b):\n",
    "    print(a+b)\n",
    "    \n",
    "sumar(3,5)"
   ]
  },
  {
   "cell_type": "markdown",
   "metadata": {},
   "source": [
    "Pero esta función solo mprime valores, ¿qué pasa si queremos guardar el valor en una variable externa?"
   ]
  },
  {
   "cell_type": "code",
   "execution_count": 5,
   "metadata": {},
   "outputs": [
    {
     "name": "stdout",
     "output_type": "stream",
     "text": [
      "4\n"
     ]
    }
   ],
   "source": [
    "miSuma=sumar(2,2) #Parece que funciona?"
   ]
  },
  {
   "cell_type": "code",
   "execution_count": 6,
   "metadata": {},
   "outputs": [
    {
     "name": "stdout",
     "output_type": "stream",
     "text": [
      "None\n"
     ]
    }
   ],
   "source": [
    "print(miSuma) #si imprimo mi variable obtengo None. ¿por qué?"
   ]
  },
  {
   "cell_type": "markdown",
   "metadata": {},
   "source": [
    "Al definir nuestra función con print(a+b) lo único que hará será imprimir un valor pero nunca lo guardará o regresará para ser utilizado nuevamente.\n",
    "##### ¿Qué hacer?\n",
    "Usamos una palabra clave : **return**"
   ]
  },
  {
   "cell_type": "code",
   "execution_count": 7,
   "metadata": {},
   "outputs": [
    {
     "name": "stdout",
     "output_type": "stream",
     "text": [
      "4\n"
     ]
    }
   ],
   "source": [
    "def sumar(a,b):\n",
    "    return a+b #regresa suma de a y b\n",
    "\n",
    "miSuma = sumar(2,2) #asigna el resultado de sumar(a,b) a variable miSuma\n",
    "\n",
    "print(miSuma) #imprime miSuma"
   ]
  },
  {
   "cell_type": "markdown",
   "metadata": {},
   "source": [
    "###### Return \"regresa\" el valor obtenido en la función al lugar donde fue llamado"
   ]
  },
  {
   "cell_type": "markdown",
   "metadata": {},
   "source": [
    "# Reto\n",
    "### Crea una función para restar, multiplicar, dividir y elevar al cuadrado\n",
    "##### Considera los parámetros que vayas a necesitas y comenta los pasos en caso de ser necesario"
   ]
  },
  {
   "cell_type": "code",
   "execution_count": null,
   "metadata": {},
   "outputs": [],
   "source": [
    "#Función Restar"
   ]
  },
  {
   "cell_type": "code",
   "execution_count": null,
   "metadata": {},
   "outputs": [],
   "source": [
    "#Función Multiplicar"
   ]
  },
  {
   "cell_type": "code",
   "execution_count": null,
   "metadata": {},
   "outputs": [],
   "source": [
    "#Función Dividir"
   ]
  },
  {
   "cell_type": "code",
   "execution_count": null,
   "metadata": {},
   "outputs": [],
   "source": [
    "#Función Elevar al cuadrado"
   ]
  }
 ],
 "metadata": {
  "kernelspec": {
   "display_name": "Python 3",
   "language": "python",
   "name": "python3"
  },
  "language_info": {
   "codemirror_mode": {
    "name": "ipython",
    "version": 3
   },
   "file_extension": ".py",
   "mimetype": "text/x-python",
   "name": "python",
   "nbconvert_exporter": "python",
   "pygments_lexer": "ipython3",
   "version": "3.7.1"
  }
 },
 "nbformat": 4,
 "nbformat_minor": 2
}
